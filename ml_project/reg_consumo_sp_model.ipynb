{
 "cells": [
  {
   "cell_type": "markdown",
   "metadata": {},
   "source": [
    "## Consumo de bebidas - SP\n",
    "\n",
    "<img src=\"https://img.jakpost.net/c/2016/08/19/2016_08_19_10034_1471567498._large.jpg\" style=\"height: 400px\"/>\n",
    "\n",
    "Os dados foram coletados em São Paulo (SP), em uma área universitária, onde existem algumas festas com grupos de alunos entre 18 e 28 anos (média). O conjunto de dados utilizado para esta atividade possui 7 atributos, sendo um alvo, com período de um ano.\n",
    "\n",
    "O objetivo deste kernel é prever o volume de cerveja que será vendido em um dia, através de informações climáticas e econômicas.\n",
    "\n",
    "\n",
    "- O dataset deste projeto, bem como algumas discussões e kernels estão disponível em https://www.kaggle.com/moriano/predicting-beer-consumption\n",
    "\n",
    "- Foi-se utilizado também uma série histórica diária do índice Bovespa (`^BVSP`), atual B3, com dados sobre o valor de abertura, fechamento, maior preço do dia etc. Essa séria pode Ser obtida no _Yahoo Finance_: https://finance.yahoo.com/quote/%5EBVSP/history?period1=1420084800&period2=1451534400&interval=1d&filter=history&frequency=1d"
   ]
  },
  {
   "cell_type": "code",
   "execution_count": 1,
   "metadata": {},
   "outputs": [],
   "source": [
    "%matplotlib inline\n",
    "\n",
    "\n",
    "import matplotlib.pyplot as plt\n",
    "import pandas as pd\n",
    "import numpy as np"
   ]
  },
  {
   "cell_type": "markdown",
   "metadata": {},
   "source": [
    "Lê a base principal e faz ajustes no nome e tipo das colunas :"
   ]
  },
  {
   "cell_type": "code",
   "execution_count": 2,
   "metadata": {},
   "outputs": [
    {
     "data": {
      "text/html": [
       "<div>\n",
       "<style scoped>\n",
       "    .dataframe tbody tr th:only-of-type {\n",
       "        vertical-align: middle;\n",
       "    }\n",
       "\n",
       "    .dataframe tbody tr th {\n",
       "        vertical-align: top;\n",
       "    }\n",
       "\n",
       "    .dataframe thead th {\n",
       "        text-align: right;\n",
       "    }\n",
       "</style>\n",
       "<table border=\"1\" class=\"dataframe\">\n",
       "  <thead>\n",
       "    <tr style=\"text-align: right;\">\n",
       "      <th></th>\n",
       "      <th>date</th>\n",
       "      <th>avgTemp</th>\n",
       "      <th>minTemp</th>\n",
       "      <th>maxTemp</th>\n",
       "      <th>rain</th>\n",
       "      <th>weekend</th>\n",
       "      <th>litres</th>\n",
       "    </tr>\n",
       "  </thead>\n",
       "  <tbody>\n",
       "    <tr>\n",
       "      <th>0</th>\n",
       "      <td>2015-01-01</td>\n",
       "      <td>27.30</td>\n",
       "      <td>23.9</td>\n",
       "      <td>32.5</td>\n",
       "      <td>0.0</td>\n",
       "      <td>0</td>\n",
       "      <td>25.461</td>\n",
       "    </tr>\n",
       "    <tr>\n",
       "      <th>1</th>\n",
       "      <td>2015-01-02</td>\n",
       "      <td>27.02</td>\n",
       "      <td>24.5</td>\n",
       "      <td>33.5</td>\n",
       "      <td>0.0</td>\n",
       "      <td>0</td>\n",
       "      <td>28.972</td>\n",
       "    </tr>\n",
       "    <tr>\n",
       "      <th>2</th>\n",
       "      <td>2015-01-03</td>\n",
       "      <td>24.82</td>\n",
       "      <td>22.4</td>\n",
       "      <td>29.9</td>\n",
       "      <td>0.0</td>\n",
       "      <td>1</td>\n",
       "      <td>30.814</td>\n",
       "    </tr>\n",
       "    <tr>\n",
       "      <th>3</th>\n",
       "      <td>2015-01-04</td>\n",
       "      <td>23.98</td>\n",
       "      <td>21.5</td>\n",
       "      <td>28.6</td>\n",
       "      <td>1.2</td>\n",
       "      <td>1</td>\n",
       "      <td>29.799</td>\n",
       "    </tr>\n",
       "    <tr>\n",
       "      <th>4</th>\n",
       "      <td>2015-01-05</td>\n",
       "      <td>23.82</td>\n",
       "      <td>21.0</td>\n",
       "      <td>28.3</td>\n",
       "      <td>0.0</td>\n",
       "      <td>0</td>\n",
       "      <td>28.900</td>\n",
       "    </tr>\n",
       "  </tbody>\n",
       "</table>\n",
       "</div>"
      ],
      "text/plain": [
       "        date  avgTemp  minTemp  maxTemp  rain  weekend  litres\n",
       "0 2015-01-01    27.30     23.9     32.5   0.0        0  25.461\n",
       "1 2015-01-02    27.02     24.5     33.5   0.0        0  28.972\n",
       "2 2015-01-03    24.82     22.4     29.9   0.0        1  30.814\n",
       "3 2015-01-04    23.98     21.5     28.6   1.2        1  29.799\n",
       "4 2015-01-05    23.82     21.0     28.3   0.0        0  28.900"
      ]
     },
     "execution_count": 2,
     "metadata": {},
     "output_type": "execute_result"
    }
   ],
   "source": [
    "df = pd.read_csv('bases/consumo_cerveja.csv', decimal=',')\n",
    "\n",
    "# --\n",
    "\n",
    "df.columns = [\"date\", \"avgTemp\", \"minTemp\", \"maxTemp\", \"rain\", \"weekend\", \"litres\"]\n",
    "df.date = pd.to_datetime(df.date, format=\"%Y-%m-%d\")\n",
    "df.litres = df.litres.astype(float)\n",
    "df.weekend = df.weekend.astype(bool).astype(int)\n",
    "\n",
    "# --\n",
    "\n",
    "df.head()"
   ]
  },
  {
   "cell_type": "markdown",
   "metadata": {},
   "source": [
    "Carrega a série do Ibovespa:"
   ]
  },
  {
   "cell_type": "code",
   "execution_count": 3,
   "metadata": {},
   "outputs": [],
   "source": [
    "df_b3 = pd.read_csv('bases/bvsp.csv')\n",
    "\n",
    "# -- \n",
    "\n",
    "df_b3.columns = map(str.lower, df_b3.columns)\n",
    "df_b3.columns = df_b3.columns.str.replace(' ', '_')\n",
    "df_b3.date = pd.to_datetime(df_b3.date, format=\"%Y-%m-%d\")\n",
    "df_b3.sort_values('date', inplace=True)"
   ]
  },
  {
   "cell_type": "markdown",
   "metadata": {},
   "source": [
    "Agora, para cada instância do dataframe `df_b3`, iremos verificar se valor de fechamento do índice é menor ou maior (_i.e._, $-1$ ou $+1$, respectivamente) que do dia anterior mais próximo."
   ]
  },
  {
   "cell_type": "code",
   "execution_count": 4,
   "metadata": {},
   "outputs": [
    {
     "data": {
      "text/plain": [
       "<matplotlib.axes._subplots.AxesSubplot at 0x7f738d7f50f0>"
      ]
     },
     "execution_count": 4,
     "metadata": {},
     "output_type": "execute_result"
    },
    {
     "data": {
      "image/png": "[encoded data removed]",
      "text/plain": [
       "<Figure size 432x288 with 1 Axes>"
      ]
     },
     "metadata": {
      "needs_background": "light"
     },
     "output_type": "display_data"
    }
   ],
   "source": [
    "df_b3['b3_var'] = df_b3.close.diff()\n",
    "df_b3['b3_var'] = df_b3['b3_var'].apply(lambda x: -1 if x < 0 else 1 if x > 1 else np.nan)\n",
    "\n",
    "# --\n",
    "\n",
    "df_b3.b3_var.hist()"
   ]
  },
  {
   "cell_type": "code",
   "execution_count": 5,
   "metadata": {},
   "outputs": [
    {
     "data": {
      "text/html": [
       "<div>\n",
       "<style scoped>\n",
       "    .dataframe tbody tr th:only-of-type {\n",
       "        vertical-align: middle;\n",
       "    }\n",
       "\n",
       "    .dataframe tbody tr th {\n",
       "        vertical-align: top;\n",
       "    }\n",
       "\n",
       "    .dataframe thead th {\n",
       "        text-align: right;\n",
       "    }\n",
       "</style>\n",
       "<table border=\"1\" class=\"dataframe\">\n",
       "  <thead>\n",
       "    <tr style=\"text-align: right;\">\n",
       "      <th></th>\n",
       "      <th>date</th>\n",
       "      <th>open</th>\n",
       "      <th>high</th>\n",
       "      <th>low</th>\n",
       "      <th>close</th>\n",
       "      <th>adj_close</th>\n",
       "      <th>volume</th>\n",
       "      <th>b3_var</th>\n",
       "    </tr>\n",
       "  </thead>\n",
       "  <tbody>\n",
       "    <tr>\n",
       "      <th>0</th>\n",
       "      <td>2015-01-02</td>\n",
       "      <td>50005.0</td>\n",
       "      <td>50005.0</td>\n",
       "      <td>48345.0</td>\n",
       "      <td>48512.0</td>\n",
       "      <td>48512.0</td>\n",
       "      <td>2882100</td>\n",
       "      <td>NaN</td>\n",
       "    </tr>\n",
       "    <tr>\n",
       "      <th>1</th>\n",
       "      <td>2015-01-05</td>\n",
       "      <td>48512.0</td>\n",
       "      <td>48512.0</td>\n",
       "      <td>47264.0</td>\n",
       "      <td>47517.0</td>\n",
       "      <td>47517.0</td>\n",
       "      <td>3866100</td>\n",
       "      <td>-1.0</td>\n",
       "    </tr>\n",
       "    <tr>\n",
       "      <th>2</th>\n",
       "      <td>2015-01-06</td>\n",
       "      <td>47517.0</td>\n",
       "      <td>48061.0</td>\n",
       "      <td>47338.0</td>\n",
       "      <td>48001.0</td>\n",
       "      <td>48001.0</td>\n",
       "      <td>4559300</td>\n",
       "      <td>1.0</td>\n",
       "    </tr>\n",
       "    <tr>\n",
       "      <th>3</th>\n",
       "      <td>2015-01-07</td>\n",
       "      <td>48006.0</td>\n",
       "      <td>49882.0</td>\n",
       "      <td>48006.0</td>\n",
       "      <td>49463.0</td>\n",
       "      <td>49463.0</td>\n",
       "      <td>4408800</td>\n",
       "      <td>1.0</td>\n",
       "    </tr>\n",
       "    <tr>\n",
       "      <th>4</th>\n",
       "      <td>2015-01-08</td>\n",
       "      <td>49463.0</td>\n",
       "      <td>50261.0</td>\n",
       "      <td>49017.0</td>\n",
       "      <td>49943.0</td>\n",
       "      <td>49943.0</td>\n",
       "      <td>3621900</td>\n",
       "      <td>1.0</td>\n",
       "    </tr>\n",
       "  </tbody>\n",
       "</table>\n",
       "</div>"
      ],
      "text/plain": [
       "        date     open     high      low    close  adj_close   volume  b3_var\n",
       "0 2015-01-02  50005.0  50005.0  48345.0  48512.0    48512.0  2882100     NaN\n",
       "1 2015-01-05  48512.0  48512.0  47264.0  47517.0    47517.0  3866100    -1.0\n",
       "2 2015-01-06  47517.0  48061.0  47338.0  48001.0    48001.0  4559300     1.0\n",
       "3 2015-01-07  48006.0  49882.0  48006.0  49463.0    49463.0  4408800     1.0\n",
       "4 2015-01-08  49463.0  50261.0  49017.0  49943.0    49943.0  3621900     1.0"
      ]
     },
     "execution_count": 5,
     "metadata": {},
     "output_type": "execute_result"
    }
   ],
   "source": [
    "df_b3.head()"
   ]
  },
  {
   "cell_type": "markdown",
   "metadata": {},
   "source": [
    "Iremos colocar a informação de variação no dataframe principal e substituir todos os NaNs por $0$. Essas instâncias podem ser dias onde a bolsa de valores não funcionou (feriados ou finais de semana, por exemplo)."
   ]
  },
  {
   "cell_type": "code",
   "execution_count": 6,
   "metadata": {},
   "outputs": [],
   "source": [
    "df = df.merge(df_b3[['date', 'b3_var']], how='left', on='date')\n",
    "df.b3_var.fillna(0, inplace=True)\n",
    "df.b3_var = df.b3_var.astype(int)"
   ]
  },
  {
   "cell_type": "markdown",
   "metadata": {},
   "source": [
    "Cria uma coluna informando o dia da semana (Segunda, Terça, ..., Domingo), considerando que a semana começa na segunda-feira (_i.e._, valores entre $0$ (segunda) e $6$ (domingo)). Em seguida, organiza as colunas que serão utilizadas pelo modelo:"
   ]
  },
  {
   "cell_type": "code",
   "execution_count": 7,
   "metadata": {},
   "outputs": [
    {
     "name": "stdout",
     "output_type": "stream",
     "text": [
      "Dataframe shape: (365, 9)\n"
     ]
    },
    {
     "data": {
      "text/html": [
       "<div>\n",
       "<style scoped>\n",
       "    .dataframe tbody tr th:only-of-type {\n",
       "        vertical-align: middle;\n",
       "    }\n",
       "\n",
       "    .dataframe tbody tr th {\n",
       "        vertical-align: top;\n",
       "    }\n",
       "\n",
       "    .dataframe thead th {\n",
       "        text-align: right;\n",
       "    }\n",
       "</style>\n",
       "<table border=\"1\" class=\"dataframe\">\n",
       "  <thead>\n",
       "    <tr style=\"text-align: right;\">\n",
       "      <th></th>\n",
       "      <th>avgTemp</th>\n",
       "      <th>minTemp</th>\n",
       "      <th>maxTemp</th>\n",
       "      <th>rain</th>\n",
       "      <th>month</th>\n",
       "      <th>dayofweek</th>\n",
       "      <th>weekend</th>\n",
       "      <th>b3_var</th>\n",
       "      <th>litres</th>\n",
       "    </tr>\n",
       "  </thead>\n",
       "  <tbody>\n",
       "    <tr>\n",
       "      <th>count</th>\n",
       "      <td>365.000000</td>\n",
       "      <td>365.000000</td>\n",
       "      <td>365.000000</td>\n",
       "      <td>365.000000</td>\n",
       "      <td>365.000000</td>\n",
       "      <td>365.0</td>\n",
       "      <td>365.000000</td>\n",
       "      <td>365.000000</td>\n",
       "      <td>365.000000</td>\n",
       "    </tr>\n",
       "    <tr>\n",
       "      <th>mean</th>\n",
       "      <td>21.226356</td>\n",
       "      <td>17.461370</td>\n",
       "      <td>26.611507</td>\n",
       "      <td>5.196712</td>\n",
       "      <td>6.526027</td>\n",
       "      <td>3.0</td>\n",
       "      <td>0.284932</td>\n",
       "      <td>-0.057534</td>\n",
       "      <td>25.401367</td>\n",
       "    </tr>\n",
       "    <tr>\n",
       "      <th>std</th>\n",
       "      <td>3.180108</td>\n",
       "      <td>2.826185</td>\n",
       "      <td>4.317366</td>\n",
       "      <td>12.417844</td>\n",
       "      <td>3.452584</td>\n",
       "      <td>2.0</td>\n",
       "      <td>0.452001</td>\n",
       "      <td>0.818387</td>\n",
       "      <td>4.399143</td>\n",
       "    </tr>\n",
       "    <tr>\n",
       "      <th>min</th>\n",
       "      <td>12.900000</td>\n",
       "      <td>10.600000</td>\n",
       "      <td>14.500000</td>\n",
       "      <td>0.000000</td>\n",
       "      <td>1.000000</td>\n",
       "      <td>0.0</td>\n",
       "      <td>0.000000</td>\n",
       "      <td>-1.000000</td>\n",
       "      <td>14.343000</td>\n",
       "    </tr>\n",
       "    <tr>\n",
       "      <th>25%</th>\n",
       "      <td>19.020000</td>\n",
       "      <td>15.300000</td>\n",
       "      <td>23.800000</td>\n",
       "      <td>0.000000</td>\n",
       "      <td>4.000000</td>\n",
       "      <td>1.0</td>\n",
       "      <td>0.000000</td>\n",
       "      <td>-1.000000</td>\n",
       "      <td>22.008000</td>\n",
       "    </tr>\n",
       "    <tr>\n",
       "      <th>50%</th>\n",
       "      <td>21.380000</td>\n",
       "      <td>17.900000</td>\n",
       "      <td>26.900000</td>\n",
       "      <td>0.000000</td>\n",
       "      <td>7.000000</td>\n",
       "      <td>3.0</td>\n",
       "      <td>0.000000</td>\n",
       "      <td>0.000000</td>\n",
       "      <td>24.867000</td>\n",
       "    </tr>\n",
       "    <tr>\n",
       "      <th>75%</th>\n",
       "      <td>23.280000</td>\n",
       "      <td>19.600000</td>\n",
       "      <td>29.400000</td>\n",
       "      <td>3.200000</td>\n",
       "      <td>10.000000</td>\n",
       "      <td>5.0</td>\n",
       "      <td>1.000000</td>\n",
       "      <td>1.000000</td>\n",
       "      <td>28.631000</td>\n",
       "    </tr>\n",
       "    <tr>\n",
       "      <th>max</th>\n",
       "      <td>28.860000</td>\n",
       "      <td>24.500000</td>\n",
       "      <td>36.500000</td>\n",
       "      <td>94.800000</td>\n",
       "      <td>12.000000</td>\n",
       "      <td>6.0</td>\n",
       "      <td>1.000000</td>\n",
       "      <td>1.000000</td>\n",
       "      <td>37.937000</td>\n",
       "    </tr>\n",
       "  </tbody>\n",
       "</table>\n",
       "</div>"
      ],
      "text/plain": [
       "          avgTemp     minTemp     maxTemp        rain       month  dayofweek  \\\n",
       "count  365.000000  365.000000  365.000000  365.000000  365.000000      365.0   \n",
       "mean    21.226356   17.461370   26.611507    5.196712    6.526027        3.0   \n",
       "std      3.180108    2.826185    4.317366   12.417844    3.452584        2.0   \n",
       "min     12.900000   10.600000   14.500000    0.000000    1.000000        0.0   \n",
       "25%     19.020000   15.300000   23.800000    0.000000    4.000000        1.0   \n",
       "50%     21.380000   17.900000   26.900000    0.000000    7.000000        3.0   \n",
       "75%     23.280000   19.600000   29.400000    3.200000   10.000000        5.0   \n",
       "max     28.860000   24.500000   36.500000   94.800000   12.000000        6.0   \n",
       "\n",
       "          weekend      b3_var      litres  \n",
       "count  365.000000  365.000000  365.000000  \n",
       "mean     0.284932   -0.057534   25.401367  \n",
       "std      0.452001    0.818387    4.399143  \n",
       "min      0.000000   -1.000000   14.343000  \n",
       "25%      0.000000   -1.000000   22.008000  \n",
       "50%      0.000000    0.000000   24.867000  \n",
       "75%      1.000000    1.000000   28.631000  \n",
       "max      1.000000    1.000000   37.937000  "
      ]
     },
     "execution_count": 7,
     "metadata": {},
     "output_type": "execute_result"
    }
   ],
   "source": [
    "df['dayofweek'] = df.date.dt.dayofweek\n",
    "df['month'] = df.date.dt.month\n",
    "\n",
    "# --\n",
    "\n",
    "df = df[[\"avgTemp\", \"minTemp\", \"maxTemp\", \"rain\", \"month\", \"dayofweek\", \"weekend\", \"b3_var\", \"litres\"]]\n",
    "\n",
    "# -- \n",
    "\n",
    "print(\"Dataframe shape:\", df.shape)\n",
    "df.describe()"
   ]
  },
  {
   "cell_type": "markdown",
   "metadata": {},
   "source": [
    "Vizualização dos dados:"
   ]
  },
  {
   "cell_type": "code",
   "execution_count": 8,
   "metadata": {},
   "outputs": [
    {
     "data": {
      "image/png": "[encoded data removed]",
      "text/plain": [
       "<Figure size 720x360 with 8 Axes>"
      ]
     },
     "metadata": {
      "needs_background": "light"
     },
     "output_type": "display_data"
    }
   ],
   "source": [
    "f, ax = plt.subplots(2, 4, figsize=(10, 5), sharey=True)\n",
    "\n",
    "\n",
    "acum = 0\n",
    "for i in range(0, 2):\n",
    "    for j in range(0, 4):\n",
    "        column = df.columns.tolist()[acum]\n",
    "        axis = ax[i, j]\n",
    "        axis.set_title('')\n",
    "        axis.set_xlabel(column)\n",
    "        axis.set_ylabel('litres')\n",
    "        acum += 1\n",
    "        \n",
    "        if column in ['avgTemp', 'minTemp', 'maxTemp', 'b3_varrain']:\n",
    "            df.plot.scatter(column, 'litres', ax=axis)\n",
    "        else:\n",
    "            df.boxplot('litres', column, ax=axis)\n",
    "        \n",
    "\n",
    "f.suptitle('')\n",
    "f.tight_layout()"
   ]
  },
  {
   "cell_type": "markdown",
   "metadata": {},
   "source": [
    "#### Machine Learning"
   ]
  },
  {
   "cell_type": "markdown",
   "metadata": {},
   "source": [
    "Organização dos dados:"
   ]
  },
  {
   "cell_type": "code",
   "execution_count": 9,
   "metadata": {},
   "outputs": [],
   "source": [
    "from sklearn.model_selection import train_test_split\n",
    "\n",
    "\n",
    "X = df.drop('litres', axis=1)\n",
    "y = df['litres']\n",
    "\n",
    "\n",
    "X_train, X_test, y_train, y_test = train_test_split(X, y, test_size=0.3, random_state=123)"
   ]
  },
  {
   "cell_type": "code",
   "execution_count": 10,
   "metadata": {},
   "outputs": [
    {
     "data": {
      "text/plain": [
       "RandomForestRegressor(bootstrap=True, criterion='mse', max_depth=None,\n",
       "           max_features='auto', max_leaf_nodes=None,\n",
       "           min_impurity_decrease=0.0, min_impurity_split=None,\n",
       "           min_samples_leaf=1, min_samples_split=2,\n",
       "           min_weight_fraction_leaf=0.0, n_estimators=150, n_jobs=None,\n",
       "           oob_score=False, random_state=None, verbose=0, warm_start=False)"
      ]
     },
     "execution_count": 10,
     "metadata": {},
     "output_type": "execute_result"
    }
   ],
   "source": [
    "from sklearn.ensemble import RandomForestRegressor\n",
    "\n",
    "\n",
    "regr = RandomForestRegressor(n_estimators=150)\n",
    "regr.fit(X_train, y_train)"
   ]
  },
  {
   "cell_type": "code",
   "execution_count": 11,
   "metadata": {},
   "outputs": [
    {
     "data": {
      "text/plain": [
       "7.307958981777768"
      ]
     },
     "execution_count": 11,
     "metadata": {},
     "output_type": "execute_result"
    }
   ],
   "source": [
    "from sklearn.metrics import mean_squared_error\n",
    "\n",
    "\n",
    "y_pred = regr.predict(X_test)\n",
    "mean_squared_error(y_test, y_pred)"
   ]
  },
  {
   "cell_type": "markdown",
   "metadata": {},
   "source": [
    "Mostra os atributos mais relevantes para o ensemble:"
   ]
  },
  {
   "cell_type": "code",
   "execution_count": 12,
   "metadata": {},
   "outputs": [
    {
     "data": {
      "image/png": "[encoded data removed]",
      "text/plain": [
       "<Figure size 504x216 with 1 Axes>"
      ]
     },
     "metadata": {
      "needs_background": "light"
     },
     "output_type": "display_data"
    }
   ],
   "source": [
    "importances, features = zip(*sorted(zip(regr.feature_importances_, X.columns)))\n",
    "\n",
    "plt.figure(figsize=(7, 3))\n",
    "plt.title('Feature importance')\n",
    "plt.ylabel(\"Features\")\n",
    "plt.xlabel(\"Significancy\")\n",
    "\n",
    "plt.barh(range(len(features)), importances, align='center', color='lightgray', edgecolor='black')\n",
    "plt.yticks(range(len(features)), features)\n",
    "\n",
    "plt.show()"
   ]
  },
  {
   "cell_type": "markdown",
   "metadata": {},
   "source": [
    "#### Exportando modelo"
   ]
  },
  {
   "cell_type": "code",
   "execution_count": 13,
   "metadata": {},
   "outputs": [],
   "source": [
    "import pickle\n",
    "\n",
    "\n",
    "pickle.dump(regr, open(\"beer_model.pkl\", \"wb\"))"
   ]
  },
  {
   "cell_type": "markdown",
   "metadata": {},
   "source": [
    "#### Carregando o modelo salvo\n",
    "\n",
    "Obtendo exemplo de amostra em JSON:"
   ]
  },
  {
   "cell_type": "code",
   "execution_count": 14,
   "metadata": {},
   "outputs": [
    {
     "name": "stdout",
     "output_type": "stream",
     "text": [
      "Índice randômico: 65\n",
      "\n",
      "{'avgTemp': 24.44,\n",
      " 'b3_var': 0.0,\n",
      " 'dayofweek': 6.0,\n",
      " 'maxTemp': 30.8,\n",
      " 'minTemp': 20.4,\n",
      " 'month': 2.0,\n",
      " 'rain': 0.0,\n",
      " 'weekend': 1.0}\n",
      "\n",
      "Volume real de cerveja vendida: 30.82\n"
     ]
    }
   ],
   "source": [
    "import json\n",
    "import pprint\n",
    "\n",
    "\n",
    "seed = np.random.randint(0, X_test.shape[0]-1)\n",
    "print(\"Índice randômico: %d\\n\" % seed)\n",
    "\n",
    "sample = json.loads(X_test.iloc[seed].to_json())\n",
    "pprint.pprint(sample)\n",
    "\n",
    "print(\"\\nVolume real de cerveja vendida: %.2f\" % y_test.iloc[seed])"
   ]
  },
  {
   "cell_type": "markdown",
   "metadata": {},
   "source": [
    "Simulação do predict (como deve ficar na API):"
   ]
  },
  {
   "cell_type": "code",
   "execution_count": 15,
   "metadata": {},
   "outputs": [
    {
     "data": {
      "text/plain": [
       "avgTemp      24.44\n",
       "minTemp      20.40\n",
       "maxTemp      30.80\n",
       "rain          0.00\n",
       "month         2.00\n",
       "dayofweek     6.00\n",
       "weekend       1.00\n",
       "b3_var        0.00\n",
       "dtype: float64"
      ]
     },
     "execution_count": 15,
     "metadata": {},
     "output_type": "execute_result"
    }
   ],
   "source": [
    "model = None\n",
    "\n",
    "\n",
    "with open('beer_model.pkl', 'rb') as model_pkl:\n",
    "    model = pickle.load(model_pkl)\n",
    "\n",
    "input_data = pd.read_json(json.dumps(sample), typ='series')\n",
    "input_data"
   ]
  },
  {
   "cell_type": "code",
   "execution_count": 16,
   "metadata": {},
   "outputs": [
    {
     "data": {
      "text/html": [
       "<div>\n",
       "<style scoped>\n",
       "    .dataframe tbody tr th:only-of-type {\n",
       "        vertical-align: middle;\n",
       "    }\n",
       "\n",
       "    .dataframe tbody tr th {\n",
       "        vertical-align: top;\n",
       "    }\n",
       "\n",
       "    .dataframe thead th {\n",
       "        text-align: right;\n",
       "    }\n",
       "</style>\n",
       "<table border=\"1\" class=\"dataframe\">\n",
       "  <thead>\n",
       "    <tr style=\"text-align: right;\">\n",
       "      <th></th>\n",
       "      <th>avgTemp</th>\n",
       "      <th>minTemp</th>\n",
       "      <th>maxTemp</th>\n",
       "      <th>rain</th>\n",
       "      <th>month</th>\n",
       "      <th>dayofweek</th>\n",
       "      <th>weekend</th>\n",
       "      <th>b3_var</th>\n",
       "    </tr>\n",
       "  </thead>\n",
       "  <tbody>\n",
       "    <tr>\n",
       "      <th>0</th>\n",
       "      <td>24.44</td>\n",
       "      <td>20.4</td>\n",
       "      <td>30.8</td>\n",
       "      <td>0.0</td>\n",
       "      <td>2.0</td>\n",
       "      <td>6.0</td>\n",
       "      <td>1.0</td>\n",
       "      <td>0.0</td>\n",
       "    </tr>\n",
       "  </tbody>\n",
       "</table>\n",
       "</div>"
      ],
      "text/plain": [
       "   avgTemp  minTemp  maxTemp  rain  month  dayofweek  weekend  b3_var\n",
       "0    24.44     20.4     30.8   0.0    2.0        6.0      1.0     0.0"
      ]
     },
     "execution_count": 16,
     "metadata": {},
     "output_type": "execute_result"
    }
   ],
   "source": [
    "input_data = input_data.to_frame().transpose()\n",
    "input_data"
   ]
  },
  {
   "cell_type": "code",
   "execution_count": 17,
   "metadata": {},
   "outputs": [
    {
     "data": {
      "text/plain": [
       "array([30.4189])"
      ]
     },
     "execution_count": 17,
     "metadata": {},
     "output_type": "execute_result"
    }
   ],
   "source": [
    "api_output = model.predict(input_data)\n",
    "api_output"
   ]
  },
  {
   "cell_type": "code",
   "execution_count": 18,
   "metadata": {},
   "outputs": [
    {
     "name": "stdout",
     "output_type": "stream",
     "text": [
      "{'litros_a_vender': 30.42}\n"
     ]
    }
   ],
   "source": [
    "pprint.pprint({\n",
    "    'litros_a_vender': round(api_output[0], 2)\n",
    "})"
   ]
  }
 ],
 "metadata": {
  "kernelspec": {
   "display_name": "Python 3",
   "language": "python",
   "name": "python3"
  },
  "language_info": {
   "codemirror_mode": {
    "name": "ipython",
    "version": 3
   },
   "file_extension": ".py",
   "mimetype": "text/x-python",
   "name": "python",
   "nbconvert_exporter": "python",
   "pygments_lexer": "ipython3",
   "version": "3.7.1"
  }
 },
 "nbformat": 4,
 "nbformat_minor": 2
}
